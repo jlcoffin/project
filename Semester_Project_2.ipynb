{
 "cells": [
  {
   "cell_type": "markdown",
   "metadata": {},
   "source": [
    "# Semester Project Update\n",
    "#### 19 March, 2019\n",
    "#### John Coffin\n",
    "\n",
    "The main focus of my dissertation is to understand how populations of mosquitofish, a small livebearing minnow, persist in creeks that have been contaminated with heavy metal mine waste. One potential mechanism enabling their persistence is through adaptive molecular evolution at genes involved with heavy metal homeostasis, but predicting which genes are putatively under selection has been a struggle. The purpose of my semester project is to generate scripts to analyze DNA sequence variation in several related fish species, which will enable me to identify regions of the genome of mosquitofish that may be experiencing positive natural selection. Positive selection occurs when potentially advantageous alleles sweep to fixation in a population, and identifying signatures of positive selection would allow me to identify the genes that are necessary to allow persistence in the polluted environment."
   ]
  },
  {
   "cell_type": "markdown",
   "metadata": {},
   "source": [
    "In order to identify selection, my scripts will need to accomplish several tasks: <br />\n",
    "* Obtain sequence data from mosquitofish (data I have collected) and related species (data my lab has collected)\n",
    "* Align sequences to a common well-annotated reference genome (Xiphophorus maculatus)\n",
    "* Detect variants in each species to determine the major allele for each species\n",
    "* Generate a consensus sequence for each species based on the major allele\n",
    "* Determine the rate of synonymous (dS) and non-synonymous (dN) substitutions in the consensus sequences <br />\n",
    "\n",
    "If the ratio of dN/dS is greater than 1 for a gene, then there is evidence for positive selection."
   ]
  },
  {
   "cell_type": "markdown",
   "metadata": {},
   "source": [
    "### Progress\n",
    "To begin, I identified python libraries and modules that I could use to help me. The first, and probably most useful library I found is Biopython (biopython.org), which has hundreds of modules and extensive documentation for bioinformatics in python. So far, I have used the following modules:"
   ]
  },
  {
   "cell_type": "code",
   "execution_count": 32,
   "metadata": {},
   "outputs": [],
   "source": [
    "#MODULES\n",
    "\n",
    "import glob                                           #glob is for managing the working directory\n",
    "\n",
    "import Bio                                            #biopython\n",
    "\n",
    "from Bio import SeqIO                                 #SeqIO is useful for inputting and outputting sequence files \n",
    "                                                      #and converting between different file formats\n",
    "    \n",
    "from Bio import AlignIO                               #AlignIO is useful for working with alignment input and output files\n",
    "\n",
    "import Bio.pairwise2 as pw2                           #pairwise2 is for aligning 2 sequences in a pairwise fashion\n",
    "\n",
    "from Bio.pairwise2 import format_alignment            #this formats alignment files for human readability\n",
    "\n",
    "from Bio.Align.Applications import MuscleCommandline  #MUSCLE is an alignment software to produce multiple alignments\n"
   ]
  },
  {
   "cell_type": "markdown",
   "metadata": {},
   "source": [
    "However, I still have significant progress yet to make. So far, I have only been able to align sequences to the reference genome. As a simplified illustration, I will show how I aligned part of a mitochondrial gene sequence in mosquitofish (*Gambusia affinis*) and *Poecilia mexicana* to the reference genome (*Xiphophorus maculatus*). These sequences were downloaded from Genbank."
   ]
  },
  {
   "cell_type": "code",
   "execution_count": 33,
   "metadata": {},
   "outputs": [],
   "source": [
    "#Sequence inputs\n",
    "\n",
    "Gaff = \"ATGACTCCTCTTATTTACTCCACCCTAAT\" #Gaffinis nd2 sequence excerpt\n",
    "Pmex = \"ATGGCTCCCCTAATCTACTCCGCCCTCAT\" #Pmexicana nd2 sequence excerpt\n",
    "Xmac = \"ATGGCTCCCTTTGTTTACTCCACCCTTAT\" #Xmaculatus nd2 sequence excerpt"
   ]
  },
  {
   "cell_type": "markdown",
   "metadata": {},
   "source": [
    "The following will perform a local alignment of the Gaff sequence and the Xmac sequence. Within the pairwise2 module (pw2), the convention for the align function is of the form: </br>\n",
    "(ALIGNMENT TYPE)XX(Seq1, Seq2, + pts for a match, - pts for a mismatch, - pts for opening a gap, - pts for continuing a gap) </br>\n",
    "where the alignment type is local or global and XX codes for what to do with matches and gaps in the alignment. The alignment with the highest score based on the user input will be selected.\n",
    "\n",
    "Notice how, with the parameters selected, the Gaff-Xmac alignment produces 7 equally-scoring alignments."
   ]
  },
  {
   "cell_type": "code",
   "execution_count": 47,
   "metadata": {},
   "outputs": [
    {
     "name": "stdout",
     "output_type": "stream",
     "text": [
      "ATGACTCCTCTTA-TTTACTCCACCCTAAT\n",
      "|||.|||| |||. |||||||||||||.||\n",
      "ATGGCTCC-CTTTGTTTACTCCACCCTTAT\n",
      "  Score=45\n",
      "\n",
      "ATGACTCCTCTT-ATTTACTCCACCCTAAT\n",
      "|||.|||| ||| .|||||||||||||.||\n",
      "ATGGCTCC-CTTTGTTTACTCCACCCTTAT\n",
      "  Score=45\n",
      "\n",
      "ATGACTCCTCT-TATTTACTCCACCCTAAT\n",
      "|||.|||| || |.|||||||||||||.||\n",
      "ATGGCTCC-CTTTGTTTACTCCACCCTTAT\n",
      "  Score=45\n",
      "\n",
      "ATGACTCCTC-TTATTTACTCCACCCTAAT\n",
      "|||.|||| | ||.|||||||||||||.||\n",
      "ATGGCTCC-CTTTGTTTACTCCACCCTTAT\n",
      "  Score=45\n",
      "\n",
      "ATGACTCC-TCTTATTTACTCCACCCTAAT\n",
      "|||.|||| | ||.|||||||||||||.||\n",
      "ATGGCTCCCT-TTGTTTACTCCACCCTTAT\n",
      "  Score=45\n",
      "\n",
      "ATGACTC-CTCTTATTTACTCCACCCTAAT\n",
      "|||.||| || ||.|||||||||||||.||\n",
      "ATGGCTCCCT-TTGTTTACTCCACCCTTAT\n",
      "  Score=45\n",
      "\n",
      "ATGACT-CCTCTTATTTACTCCACCCTAAT\n",
      "|||.|| ||| ||.|||||||||||||.||\n",
      "ATGGCTCCCT-TTGTTTACTCCACCCTTAT\n",
      "  Score=45\n",
      "\n"
     ]
    }
   ],
   "source": [
    "#Align Gaff to Xmac\n",
    "Gaff_Xmac_align = pw2.align.localms(Gaff, Xmac, 2, -1, -1, -0.5)\n",
    "\n",
    "for i in Gaff_Xmac_align:\n",
    "    print(format_alignment(*i))"
   ]
  },
  {
   "cell_type": "markdown",
   "metadata": {},
   "source": [
    "However, if we change the gap penalty from -1 to -3, then we only get one best-scoring alignment:"
   ]
  },
  {
   "cell_type": "code",
   "execution_count": 35,
   "metadata": {},
   "outputs": [
    {
     "name": "stdout",
     "output_type": "stream",
     "text": [
      "ATGACTCCTCTTATTTACTCCACCCTAAT\n",
      "|||.||||..||.|||||||||||||.||\n",
      "ATGGCTCCCTTTGTTTACTCCACCCTTAT\n",
      "  Score=43\n",
      "\n"
     ]
    }
   ],
   "source": [
    "Gaff_Xmac_align = pw2.align.localms(Gaff, Xmac, 2, -1, -3, -0.5)\n",
    "\n",
    "for i in Gaff_Xmac_align:\n",
    "    print(format_alignment(*i))"
   ]
  },
  {
   "cell_type": "markdown",
   "metadata": {},
   "source": [
    "Aligning Pmex to Xmac, using the same parameters as when mapping Gaff to Xmac, only yields one best-scoring alignment, which is optimal. "
   ]
  },
  {
   "cell_type": "code",
   "execution_count": 36,
   "metadata": {},
   "outputs": [
    {
     "name": "stdout",
     "output_type": "stream",
     "text": [
      "ATGGCTCCCCTAATCTACTCCGCCCTCAT\n",
      "|||||||||.|..|.||||||.||||.||\n",
      "ATGGCTCCCTTTGTTTACTCCACCCTTAT\n",
      "  Score=40\n",
      "\n"
     ]
    }
   ],
   "source": [
    "#Align Pmex to Xmac\n",
    "Pmex_Xmac_align = pw2.align.localms(Pmex, Xmac, 2, -1, -1, -.5)\n",
    "\n",
    "for i in Pmex_Xmac_align:\n",
    "    print(format_alignment(*i))"
   ]
  },
  {
   "cell_type": "markdown",
   "metadata": {},
   "source": [
    "Once the sequences have been aligned to the reference genome, the next step is to create a multiple sequence alignment. This is accomplished using the following:"
   ]
  },
  {
   "cell_type": "code",
   "execution_count": 37,
   "metadata": {},
   "outputs": [
    {
     "name": "stdout",
     "output_type": "stream",
     "text": [
      "DNAAlphabet() alignment with 3 rows and 29 columns\n",
      "ATGACTCCTCTTATTTACTCCACCCTAAT Gaff\n",
      "ATGGCTCCCCTAATCTACTCCGCCCTCAT Pmex\n",
      "ATGGCTCCCTTTGTTTACTCCACCCTTAT Xmac\n"
     ]
    }
   ],
   "source": [
    "glob.os.chdir(\"/Users/johncoffin/Desktop/Coding/project/\")\n",
    "\n",
    "from Bio.Alphabet import generic_dna\n",
    "from Bio.Seq import Seq\n",
    "from Bio.SeqRecord import SeqRecord\n",
    "from Bio.Align import MultipleSeqAlignment\n",
    "\n",
    "align = MultipleSeqAlignment([\n",
    "             SeqRecord(Seq(Gaff, generic_dna), id=\"Gaff\"),\n",
    "             SeqRecord(Seq(Pmex, generic_dna), id=\"Pmex\"),\n",
    "             SeqRecord(Seq(Xmac, generic_dna), id=\"Xmac\"),\n",
    "         ])\n",
    "print(align)"
   ]
  },
  {
   "cell_type": "markdown",
   "metadata": {},
   "source": [
    "Once the multiple alignment is completed, it can be converted to different file formats. For my analysis, I need the multiple alignment files to be in the phylip format, which can be accomplished with the AlignIO.write function, which will create a file called \"align.phy\" in the specified format (phylip here) in the current working directory: "
   ]
  },
  {
   "cell_type": "code",
   "execution_count": 43,
   "metadata": {},
   "outputs": [
    {
     "name": "stdout",
     "output_type": "stream",
     "text": [
      " 3 29\n",
      "Gaff       ATGACTCCTC TTATTTACTC CACCCTAAT\n",
      "Pmex       ATGGCTCCCC TAATCTACTC CGCCCTCAT\n",
      "Xmac       ATGGCTCCCT TTGTTTACTC CACCCTTAT\n",
      "\n"
     ]
    }
   ],
   "source": [
    "AlignIO.write(align, \"align.phy\", \"phylip\");\n",
    "phylip = AlignIO.read(open(\"align.phy\"), \"phylip\")\n",
    "print(phylip.format(\"phylip\"))"
   ]
  },
  {
   "cell_type": "markdown",
   "metadata": {},
   "source": [
    "### Moving forward\n",
    "The next step is to use these functions on the sequences that I have, instead of on single genes obtained from Genbank. I will then need to find modules within Biopython to call SNPs. I have already found a module in Biopython called PAML, found in Bio.Phylo.PAML, but I do not yet know how to use it."
   ]
  },
  {
   "cell_type": "code",
   "execution_count": null,
   "metadata": {},
   "outputs": [],
   "source": []
  }
 ],
 "metadata": {
  "kernelspec": {
   "display_name": "Python 3",
   "language": "python",
   "name": "python3"
  },
  "language_info": {
   "codemirror_mode": {
    "name": "ipython",
    "version": 3
   },
   "file_extension": ".py",
   "mimetype": "text/x-python",
   "name": "python",
   "nbconvert_exporter": "python",
   "pygments_lexer": "ipython3",
   "version": "3.7.1"
  }
 },
 "nbformat": 4,
 "nbformat_minor": 2
}
