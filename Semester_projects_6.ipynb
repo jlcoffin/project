{
 "cells": [
  {
   "cell_type": "markdown",
   "metadata": {},
   "source": [
    "# Semester Project\n",
    "###  07 May, 2019\n",
    "### John Coffin\n",
    "\n",
    "\n",
    "#### Motivation: \n",
    "The main focus of my dissertation is to understand how populations of fish persist in extreme environments. One potential mechanism enabling their persistence is through adaptive evolution at genes involved in coping with environmental stressors, but predicting which genes are under positive selection is difficult. The purpose of my semester project is to generate a script to analyze DNA sequence variation in several related extremophile fish species that my lab works with, which will enable me to identify genes that may be experiencing positive natural selection. </br>\n"
   ]
  },
  {
   "cell_type": "markdown",
   "metadata": {},
   "source": [
    "#### Background:\n",
    "Mutations change the DNA sequence, but due to the degeneracy of the DNA code, several different codons can code for the same amino acid. \n",
    "\n",
    "![alt text](https://github.com/jlcoffin/project/blob/master/codon_table.png)"
   ]
  },
  {
   "cell_type": "markdown",
   "metadata": {},
   "source": [
    "Therefore, `not all mutations cause a functional difference at the protein level`.  We call these **synonymous substitutions**. Because these mutations do not change the amino acid, they do not cause a phenotypic difference and are thus \"invisible\" to natural selection. On the other hand, when mutations change the amino acid sequence, they can have important functional consequences, primarily in the form of protein function. Most of these **nonsynonymous substitutions** end up being deleterious and are removed from the population by purifying selection, but sometimes, they can impart some type of selective advantage, in which case these mutations increase in the population through positive selection in what is called a selective sweep. "
   ]
  },
  {
   "cell_type": "markdown",
   "metadata": {},
   "source": [
    "![alt text](https://github.com/jlcoffin/project/blob/master/gaffinis.jpeg)"
   ]
  },
  {
   "cell_type": "markdown",
   "metadata": {},
   "source": [
    "Typically, we say that if the ratio of nonsynonymous substitutions to synonymous substitutions in a gene is greater than one, then that gene is experiencing positive selection. This is because if the ratio is less than one, then the random force of genetic drift could be responsible for the observed nonsynonymous substitution. If I can identify which genes are experiencing positive selection, then I can further explore those genes for how these sequence differences help fish survive in extreme environments. </br>\n",
    "</br>\n",
    "In order to identify selection, my script will need to accomplish several tasks: </br>\n",
    "* Obtain sequence data from transcriptomes I have generated and several related species my labmates have generated\n",
    "* Detect nucleotide variants in each species\n",
    "* Determine whether variants change the amino acid coded (nonsynonymous substitutions, dN) or not (synonymous substitutions, dS) </br>"
   ]
  },
  {
   "cell_type": "code",
   "execution_count": 4,
   "metadata": {},
   "outputs": [],
   "source": [
    "#Import modules\n",
    "\n",
    "import pandas as pd\n",
    "\n",
    "import numpy as np"
   ]
  },
  {
   "cell_type": "code",
   "execution_count": 5,
   "metadata": {},
   "outputs": [],
   "source": [
    "#Input sequences\n",
    "\n",
    "Gaff = (\"ATGACTCCTCTTATTTACTCCACCCTAATTATCAGCCTTGGAATTGGCACCACCCTAACATTTGCCAGCACCCACTGATATCTCGCCTGAATAGGCATTGAAATCAACACATTAGCTATTATTCCCCTTATAACACAAAGCCACAGCCCCCGAGCAACTGAAGCCACCACTAAGTACTTCTTCGCACAAGCCACCGCCTCAGCCACACTTCTCTTCGCTGCTACCTCTAACGCTTTCTTCACTGGAAGTTGAGACATTCTTCAAACCAATAATCCCCTTACCTATACCCTAATAACCCTTGCCCTGGCCATAAAAATTGGCCTAGCCCCGCTTCACAGCTGAATGCCCGAAGTAATGCAAGGCCTAACTTTACTTACAGGCCTGATCCTTTCCACCTGACAAAAACTTGCCCCCTTTTGCCTTATTTATCAAATTCAACCGCACAGCCCGAACCTTTTCATGGCCTTAGGGCTCCTGTCCATTGTTGCAGGGGGATGAGGAGGCTTCAACCAAGTACAGCTACGAAAAATCCTTGCATACTCATCAATTGCCCATCTCGGATGAATAGTTCTTATCCTTTCTTTCTCGCCCCCTCTAACACTTGTTGCCTTTTCCACTTATCTTATAATAACTTTCTCCCTATTTTATTCTTTTATAATAACCAAAACCACACACATTAATTCCCTTTCCACCTCCTGAGCCAAAATTCCAACTCTCACCGCTTTAACCCCCCTAATTCTTCTCTCCCTTGGAGGCCTGCCCCCTCTAACAGGATTTTTACCAAAATGAATAATCCTTCAAGAACTGACCAAACAAGACCTAGCCCTAGTCGCCGTCCTCGCCGCCCTATTTTCACTCTTTAGTCTTTATTTTTACCTCCGACTATCATACGCAATAACATTAACTATACCCCCGAATAACCCCGCAGGAACCCTTCCTTGGCGACTCAACCCCTCCCACAATACCCTCCCCCCAGCTTTAACTACCACAATAACAATTTTTCTTCTCCCAATCACCCCAGCCTTTATAACACTCTTTTTCCTCTAA\")\n",
    "Pmex = (\"ATGGCTCCCCTAATCTACTCCGCCCTCATCATTAGTCTTGGCCTCGGTACAACCATAACCTTTGCCAGCACCCATTGATACCTTGCCTGAATAGGCATCGAAATTAATACATTAGCCATCATCCCTCTAATAGCCCAAAACCACATCCCCCGAGCAATTGAAGCTACCACTAAATACTTTTTTGTCCAAGCGACTGCCTCAGCAACACTTCTATTTGCTGGTATCTCCAACGCATTTCTAACCGGACAATGAGATATTACCTACACCCCCTATACCCTTACTTCTACACTAATTACCCTTGCCCTTGCAATAAAAATTGGCCTTGCCCCCCTTCACAGCTGAATACCAGAAGTAATGCAAGGCCTTAATTTACTTACCGGGCTGATTTTATCCACTTGACAAAAACTTGCCCCCTTATACCTAATTTATCAAATTCAACCAAACAACCCAAACATTTTTATTGCCTTAGGCCTTATATCTATTATTGTTGGAGGATGAGGAGGATTCAACCAAGTCCAACTTCGAAAAATCCTAGCATACTCATCAATCGCCCACCTAGGGTGAATAATCTTAATTCTCTCATTTTCACCCCCACTCGCCCTACTCACCATTATCATTTACATTTTAATAACCTTCTCATTATTCTCCTCTTTTATACTAACCCGCACCACCCATATCAACTCCCTTTCCACCACCTGAGCCAAAATTCCAATCCTTACTATTTCCACCCCTCTAATCCTTCTATCCCTAGGCGGACTACCCCCCCTTACAGGATTTATACCAAAATGAATAATCCTCCAAGAATTAACCAAACAAAGCCTATGCCCACTCGCCACCATAGCTGCACTCTCATCCCTTTTCAGCCTTTATTTTTACCTCCGACTATCATACGCAATAACACTCACTATACCACCAAATAACCCTGCAGGGACACTCCCATGACGACTTAACCCTCGACACAACACCCTTCCCCTAGCCCTAACAACCACCTCAACAATTTGCCTCCTTCCCATAACCCCCGCTATCATATCCCTAATACCTTTCTGA\")\n",
    "Psul = (\"ATGGCTCCCCCAATCTACTCCGCCCTCATCATCAGTCTTGGCCTCGGTACAACCATAACCTTTGCCAGCACCCATTGATTCCTTGCCTGAATAGGCATCGAAATTAATACATTAGCCATCATCCCTCTAATAGCCCAAAACCACATCCCCCGAGCAATTGAAGCTACCACTAAATACTTTTTTGTCCAAGCGACTGCCTCAGCAACACTTCTATTTGCTGGTATCTCCAACGCATTTCTTACCGGACAATGAGATATTACCCACACCCCCTATACCCTCACTTCTACACTAATTACCCTTGCCCTTGCAATAAAAATTGGCCTTGCCCCCCTTCACAGCTGAATACCAGAAGTAATGCAAGGCCTTAATTTACTTACCGGACTGATTCTATCCACTTGACAAAAACTTGCCCCCTTATACCTAATTTATCAAATTCAACCAAACAACCCAAACATTTTTATTGCCTTAGGCCTTCTATCTATTATTGTTGGAGGATGAGGAGGATTCAACCAAGTCCAACTTCGAAAAATCCTAGCATACTCATCAATCGCCCACCTAGGGTGAATAATCTTAATTCTCCCATTTTCACCCCCACTCGCCCTACTCACCATTATTATTTACATTTTAATAACCTTCTCATTATTCTCCTCTTTTATACTAACCCGCACCACCCACATCAACTCCCTTTCCACTACCTGAGCCAAAATTCCAATCCTTACTATCTCCACCCCCCTAATCCTTCTATCCCTAGGAGGACTACCCCCTCTTACAGGATTTATACCAAAATGAATAATCCTCCAAGAATTAACCAAACAAAGCCTATGCCCACTCGCCACCATAGCTGCACTCTCATCCCTTTTCAGCCTTTATTTTTACCTCCGACTATCATACGCAATAACACTCACTATACCACCAAATAACCCTGCAGGGACACTCCCATGACGACTTAACCCTCGACACAATACCCTTCCCCTAGCCCTAACAACCACCTCAACAATTTGCCTCCTTCCCATAACCCCCACTATCATATCCCTAATACCTTTCTAG\")\n",
    "Xmac = (\"ATGGCTCCCTTTGTTTACTCCACCCTTATCATTAGTCTTGGTCTCGGCACAGCCATAACCTTCGCCAGCACCCACTGATACCTCGCCTGAATAGGCATCGAAATCAATACACTAGCCATTATCCCCCTAATAACCCAAAACCACAACCCTCGAGCAATTGAAGCCACCACCAAATACTTTTTTGCACAAGCCACCGCTTCAGCAACACTGCTATTCGCCGCTGTCTCAAATGCATTCTTGACCGGGGGATGAGACATTCTTCAAATCAACCACCCCCTAACTTCCACACTCACCACCCTAGCTCTAGCTATAAAAATCGGTCTCGCCCCCCTCCACAGCTGAATGCCAGAAGTAATACAAGGCTTAAGCCTACTTACCGGCCTTATCCTTTCCACTTGGCAAAAACTTGCCCCCTTTTGCCTCATTTACCAAATTCAGCCAGACAACCCCAATGTTTTCATTACCTTAGGCCTCTTATCTGTGATCGTGGGCGGCTGAGGGGGTTTCAACCAAGTCCAACTCCGAAAAATTCTTGCATACTCATCAATCGCCCATCTGGGCTGAATAATTCTCATTCTCCCATTCTCACCCCCTCTCACCTTACTTACCCTTTTTACTTACCTAATAATGACCTTTTCACTTTTTTCCTCCTTCATACTAGTTCGCACCACACATATTAACTCTTTATCCATCTCCTGAGCCAAAATCCCAACTCTTACTGCTTCTGTCCCCCTCATCCTCTTATCCCTGGGAGGTCTACCACCCCTAACAGGATTCTTACCAAAATGACTTATCCTCCAAGAGTTAACCAAACAAGACCTGGCCCCAATTGCCACTCTCGCTGCCCTTTCATCCCTCTTCAGCCTTTATTTTTATCTCCGACTATCATACACAATAACACTCACTATGCCCCCAAACAACCCCGCCGGAACACTCCCCTGACGACTTAACCCCCAACACAACACCCTCCCCCTGGCTTTAACCACCACCACAACAATTTTCCTTCTCCCTGCCACCCCAACCATTCTGGCTCTTTTCACTTTCTGA\")\n"
   ]
  },
  {
   "cell_type": "code",
   "execution_count": 6,
   "metadata": {},
   "outputs": [
    {
     "name": "stdout",
     "output_type": "stream",
     "text": [
      "['ATG', 'ACT', 'CCT', 'CTT', 'ATT', 'TAC', 'TCC', 'ACC', 'CTA', 'ATT']\n",
      "['ATG', 'GCT', 'CCC', 'TTT', 'GTT', 'TAC', 'TCC', 'ACC', 'CTT', 'ATC']\n"
     ]
    }
   ],
   "source": [
    "#Split each sequence into codon triplets, which will be translated into amino acids\n",
    "\n",
    "Gaff_codons = []\n",
    "for i in np.arange(0,len(Gaff),3):\n",
    "    Gaff_codons.append(Gaff[i:i+3])\n",
    "\n",
    "Pmex_codons = []\n",
    "for i in np.arange(0,len(Pmex),3):\n",
    "    Pmex_codons.append(Pmex[i:i+3])\n",
    "\n",
    "Psul_codons = []\n",
    "for i in np.arange(0,len(Psul),3):\n",
    "    Psul_codons.append(Psul[i:i+3])\n",
    "    \n",
    "Xmac_codons = []\n",
    "for i in np.arange(0,len(Xmac),3):\n",
    "    Xmac_codons.append(Xmac[i:i+3])\n",
    "\n",
    "print(Gaff_codons[:10])\n",
    "print(Xmac_codons[:10])"
   ]
  },
  {
   "cell_type": "code",
   "execution_count": 7,
   "metadata": {},
   "outputs": [
    {
     "data": {
      "text/html": [
       "<div>\n",
       "<style scoped>\n",
       "    .dataframe tbody tr th:only-of-type {\n",
       "        vertical-align: middle;\n",
       "    }\n",
       "\n",
       "    .dataframe tbody tr th {\n",
       "        vertical-align: top;\n",
       "    }\n",
       "\n",
       "    .dataframe thead th {\n",
       "        text-align: right;\n",
       "    }\n",
       "</style>\n",
       "<table border=\"1\" class=\"dataframe\">\n",
       "  <thead>\n",
       "    <tr style=\"text-align: right;\">\n",
       "      <th></th>\n",
       "      <th>CodonNumber</th>\n",
       "      <th>DifferentNucleotide</th>\n",
       "    </tr>\n",
       "  </thead>\n",
       "  <tbody>\n",
       "    <tr>\n",
       "      <th>0</th>\n",
       "      <td>1</td>\n",
       "      <td>T</td>\n",
       "    </tr>\n",
       "    <tr>\n",
       "      <th>1</th>\n",
       "      <td>2</td>\n",
       "      <td>G</td>\n",
       "    </tr>\n",
       "    <tr>\n",
       "      <th>2</th>\n",
       "      <td>3</td>\n",
       "      <td>A</td>\n",
       "    </tr>\n",
       "    <tr>\n",
       "      <th>3</th>\n",
       "      <td>4</td>\n",
       "      <td>C</td>\n",
       "    </tr>\n",
       "    <tr>\n",
       "      <th>4</th>\n",
       "      <td>8</td>\n",
       "      <td>T</td>\n",
       "    </tr>\n",
       "  </tbody>\n",
       "</table>\n",
       "</div>"
      ],
      "text/plain": [
       "   CodonNumber DifferentNucleotide\n",
       "0            1                   T\n",
       "1            2                   G\n",
       "2            3                   A\n",
       "3            4                   C\n",
       "4            8                   T"
      ]
     },
     "execution_count": 7,
     "metadata": {},
     "output_type": "execute_result"
    }
   ],
   "source": [
    "#Identify which nucleotides differ between each sequence and the reference sequence, Xiphophorus maculatus (Xmac)\n",
    "\n",
    "Gaff_variants_index = []\n",
    "Gaff_invariants_index = []\n",
    "Gaff_variants = []\n",
    "Gaff_invariants = []\n",
    "for codon in np.arange(0, len(Gaff_codons)):\n",
    "    if Gaff_codons[codon] == Xmac_codons[codon]:\n",
    "        Gaff_invariants_index.append(codon) #adding 1 here because python is zero-indexed, so the first codon is really indexed as zero and not 1\n",
    "        Gaff_invariants.append(Gaff[codon])\n",
    "    else:\n",
    "        Gaff_variants_index.append(codon)\n",
    "        Gaff_variants.append(Gaff[codon])\n",
    "        \n",
    "affinis_variants = {\"CodonNumber\": Gaff_variants_index, \"DifferentNucleotide\": Gaff_variants}\n",
    "Gaff_snps = pd.DataFrame(data = affinis_variants)\n",
    "Gaff_snps.head(5)\n"
   ]
  },
  {
   "cell_type": "code",
   "execution_count": 8,
   "metadata": {},
   "outputs": [
    {
     "data": {
      "text/html": [
       "<div>\n",
       "<style scoped>\n",
       "    .dataframe tbody tr th:only-of-type {\n",
       "        vertical-align: middle;\n",
       "    }\n",
       "\n",
       "    .dataframe tbody tr th {\n",
       "        vertical-align: top;\n",
       "    }\n",
       "\n",
       "    .dataframe thead th {\n",
       "        text-align: right;\n",
       "    }\n",
       "</style>\n",
       "<table border=\"1\" class=\"dataframe\">\n",
       "  <thead>\n",
       "    <tr style=\"text-align: right;\">\n",
       "      <th></th>\n",
       "      <th>CodonNumber</th>\n",
       "      <th>DifferentNucleotide</th>\n",
       "    </tr>\n",
       "  </thead>\n",
       "  <tbody>\n",
       "    <tr>\n",
       "      <th>0</th>\n",
       "      <td>3</td>\n",
       "      <td>G</td>\n",
       "    </tr>\n",
       "    <tr>\n",
       "      <th>1</th>\n",
       "      <td>4</td>\n",
       "      <td>C</td>\n",
       "    </tr>\n",
       "    <tr>\n",
       "      <th>2</th>\n",
       "      <td>7</td>\n",
       "      <td>C</td>\n",
       "    </tr>\n",
       "    <tr>\n",
       "      <th>3</th>\n",
       "      <td>8</td>\n",
       "      <td>C</td>\n",
       "    </tr>\n",
       "    <tr>\n",
       "      <th>4</th>\n",
       "      <td>13</td>\n",
       "      <td>T</td>\n",
       "    </tr>\n",
       "  </tbody>\n",
       "</table>\n",
       "</div>"
      ],
      "text/plain": [
       "   CodonNumber DifferentNucleotide\n",
       "0            3                   G\n",
       "1            4                   C\n",
       "2            7                   C\n",
       "3            8                   C\n",
       "4           13                   T"
      ]
     },
     "execution_count": 8,
     "metadata": {},
     "output_type": "execute_result"
    }
   ],
   "source": [
    "Pmex_variants_index = []\n",
    "Pmex_invariants_index = []\n",
    "Pmex_variants = []\n",
    "Pmex_invariants = []\n",
    "for codon in np.arange(0, len(Pmex_codons)):\n",
    "    if Pmex_codons[codon] == Xmac_codons[codon]:\n",
    "        Pmex_invariants_index.append(codon)\n",
    "        Pmex_invariants.append(Pmex[codon])\n",
    "    else:\n",
    "        Pmex_variants_index.append(codon)\n",
    "        Pmex_variants.append(Pmex[codon])\n",
    "mexicana_variants = {\"CodonNumber\": Pmex_variants_index, \"DifferentNucleotide\": Pmex_variants}\n",
    "Pmex_snps = pd.DataFrame(data = mexicana_variants)\n",
    "Pmex_snps.head(5)"
   ]
  },
  {
   "cell_type": "code",
   "execution_count": 9,
   "metadata": {},
   "outputs": [
    {
     "data": {
      "text/html": [
       "<div>\n",
       "<style scoped>\n",
       "    .dataframe tbody tr th:only-of-type {\n",
       "        vertical-align: middle;\n",
       "    }\n",
       "\n",
       "    .dataframe tbody tr th {\n",
       "        vertical-align: top;\n",
       "    }\n",
       "\n",
       "    .dataframe thead th {\n",
       "        text-align: right;\n",
       "    }\n",
       "</style>\n",
       "<table border=\"1\" class=\"dataframe\">\n",
       "  <thead>\n",
       "    <tr style=\"text-align: right;\">\n",
       "      <th></th>\n",
       "      <th>CodonNumber</th>\n",
       "      <th>DifferentNucleotide</th>\n",
       "    </tr>\n",
       "  </thead>\n",
       "  <tbody>\n",
       "    <tr>\n",
       "      <th>0</th>\n",
       "      <td>3</td>\n",
       "      <td>G</td>\n",
       "    </tr>\n",
       "    <tr>\n",
       "      <th>1</th>\n",
       "      <td>4</td>\n",
       "      <td>C</td>\n",
       "    </tr>\n",
       "    <tr>\n",
       "      <th>2</th>\n",
       "      <td>7</td>\n",
       "      <td>C</td>\n",
       "    </tr>\n",
       "    <tr>\n",
       "      <th>3</th>\n",
       "      <td>8</td>\n",
       "      <td>C</td>\n",
       "    </tr>\n",
       "    <tr>\n",
       "      <th>4</th>\n",
       "      <td>10</td>\n",
       "      <td>C</td>\n",
       "    </tr>\n",
       "  </tbody>\n",
       "</table>\n",
       "</div>"
      ],
      "text/plain": [
       "   CodonNumber DifferentNucleotide\n",
       "0            3                   G\n",
       "1            4                   C\n",
       "2            7                   C\n",
       "3            8                   C\n",
       "4           10                   C"
      ]
     },
     "execution_count": 9,
     "metadata": {},
     "output_type": "execute_result"
    }
   ],
   "source": [
    "Psul_variants_index = []\n",
    "Psul_invariants_index = []\n",
    "Psul_variants = []\n",
    "Psul_invariants = []\n",
    "for codon in np.arange(0, len(Psul_codons)):\n",
    "    if Psul_codons[codon] == Xmac_codons[codon]:\n",
    "        Psul_invariants_index.append(codon)\n",
    "        Psul_invariants.append(Psul[codon])\n",
    "    else:\n",
    "        Psul_variants_index.append(codon)\n",
    "        Psul_variants.append(Psul[codon])\n",
    "sulphuraria_variants = {\"CodonNumber\": Psul_variants_index, \"DifferentNucleotide\": Psul_variants}\n",
    "Psul_snps = pd.DataFrame(data = sulphuraria_variants)\n",
    "Psul_snps.head(5)"
   ]
  },
  {
   "cell_type": "code",
   "execution_count": 10,
   "metadata": {},
   "outputs": [],
   "source": [
    "#Create a function to translate DNA into amino acids\n",
    "\n",
    "def translate(sequence): \n",
    "       \n",
    "    conversion_table = { \n",
    "        'ATA':'I', \n",
    "        'ATC':'I', \n",
    "        'ATT':'I', \n",
    "        'ATG':'M', \n",
    "        'ACA':'T', \n",
    "        'ACC':'T', \n",
    "        'ACG':'T', \n",
    "        'ACT':'T', \n",
    "        'AAC':'N', \n",
    "        'AAT':'N', \n",
    "        'AAA':'K', \n",
    "        'AAG':'K', \n",
    "        'AGC':'S', \n",
    "        'AGT':'S', \n",
    "        'AGA':'R', \n",
    "        'AGG':'R',                  \n",
    "        'CTA':'L', \n",
    "        'CTC':'L', \n",
    "        'CTG':'L', \n",
    "        'CTT':'L', \n",
    "        'CCA':'P', \n",
    "        'CCC':'P', \n",
    "        'CCG':'P', \n",
    "        'CCT':'P', \n",
    "        'CAC':'H', \n",
    "        'CAT':'H', \n",
    "        'CAA':'Q', \n",
    "        'CAG':'Q', \n",
    "        'CGA':'R', \n",
    "        'CGC':'R', \n",
    "        'CGG':'R', \n",
    "        'CGT':'R', \n",
    "        'GTA':'V', \n",
    "        'GTC':'V', \n",
    "        'GTG':'V', \n",
    "        'GTT':'V', \n",
    "        'GCA':'A', \n",
    "        'GCC':'A', \n",
    "        'GCG':'A', \n",
    "        'GCT':'A', \n",
    "        'GAC':'D', \n",
    "        'GAT':'D', \n",
    "        'GAA':'E', \n",
    "        'GAG':'E', \n",
    "        'GGA':'G', \n",
    "        'GGC':'G', \n",
    "        'GGG':'G', \n",
    "        'GGT':'G', \n",
    "        'TCA':'S', \n",
    "        'TCC':'S', \n",
    "        'TCG':'S', \n",
    "        'TCT':'S', \n",
    "        'TTC':'F', \n",
    "        'TTT':'F', \n",
    "        'TTA':'L', \n",
    "        'TTG':'L', \n",
    "        'TAC':'Y', \n",
    "        'TAT':'Y', \n",
    "        'TAA':'_', \n",
    "        'TAG':'_', \n",
    "        'TGC':'C', \n",
    "        'TGT':'C', \n",
    "        'TGA':'_', \n",
    "        'TGG':'W'\n",
    "    } \n",
    "    protein_sequence =[] \n",
    "    if len(sequence)%3 == 0: #codons are in multiples of 3 nucleotides\n",
    "        for i in range(0, len(sequence), 3): \n",
    "            codon = sequence[i:i + 3] \n",
    "            protein_sequence += conversion_table[codon] \n",
    "    else:\n",
    "        print(\"This sequence is missing data. The sequence must be in-frame to compare codons.\")\n",
    "    return protein_sequence"
   ]
  },
  {
   "cell_type": "code",
   "execution_count": 11,
   "metadata": {},
   "outputs": [
    {
     "name": "stdout",
     "output_type": "stream",
     "text": [
      "The dN/dS ratio for Gambusia affinis is 0.45384615384615384 which is indicative of purifying selection for this gene.\n"
     ]
    }
   ],
   "source": [
    "#Now, at each of the variant sites identified, this mutation could change the amino acid coded by those nucleotides (a non-synonymous mutation), or it could be a synonymous mutation\n",
    "\n",
    "Gaff_synonymous_sites = []\n",
    "Gaff_nonsynonymous_sites = []\n",
    "for codon in Gaff_snps.CodonNumber:\n",
    "    if translate(Gaff_codons[codon]) == translate(Xmac_codons[codon]):\n",
    "        Gaff_synonymous_sites += translate(Gaff_codons[codon])\n",
    "    else:\n",
    "        Gaff_nonsynonymous_sites += translate(Gaff_codons[codon])\n",
    "        \n",
    "Gaff_omega = len(Gaff_nonsynonymous_sites) / len(Gaff_synonymous_sites)\n",
    "\n",
    "if Gaff_omega < 1:\n",
    "    print(\"The dN/dS ratio for Gambusia affinis is\", Gaff_omega, \"which is indicative of purifying selection for this gene.\") \n",
    "else:\n",
    "    print(\"The dN/dS ratio for Gambusia affinis is\", Gaff_omega, \"which is indicative of positive selection for this gene.\")"
   ]
  },
  {
   "cell_type": "code",
   "execution_count": 12,
   "metadata": {},
   "outputs": [
    {
     "name": "stdout",
     "output_type": "stream",
     "text": [
      "The dN/dS ratio for Poecilia mexicana is 0.5221238938053098 which is indicative of purifying selection for this gene.\n"
     ]
    }
   ],
   "source": [
    "Pmex_synonymous_sites = []\n",
    "Pmex_nonsynonymous_sites = []\n",
    "for codon in Pmex_snps.CodonNumber:\n",
    "    if translate(Pmex_codons[codon]) == translate(Xmac_codons[codon]):\n",
    "        Pmex_synonymous_sites += translate(Pmex_codons[codon])\n",
    "    else:\n",
    "        Pmex_nonsynonymous_sites += translate(Pmex_codons[codon])\n",
    "Pmex_omega = len(Pmex_nonsynonymous_sites) / len(Pmex_synonymous_sites)\n",
    "\n",
    "if Pmex_omega < 1:\n",
    "    print(\"The dN/dS ratio for Poecilia mexicana is\", Pmex_omega, \"which is indicative of purifying selection for this gene.\") \n",
    "else:\n",
    "    print(\"The dN/dS ratio for Poecilia mexicana is\", Pmex_omega, \"which is indicative of positive selection for this gene.\")"
   ]
  },
  {
   "cell_type": "code",
   "execution_count": 13,
   "metadata": {},
   "outputs": [
    {
     "name": "stdout",
     "output_type": "stream",
     "text": [
      "The dN/dS ratio for Poecilia sulphuraria is 0.4830508474576271 which is indicative of purifying selection for this gene.\n"
     ]
    }
   ],
   "source": [
    "Psul_synonymous_sites = []\n",
    "Psul_nonsynonymous_sites = []\n",
    "for codon in Psul_snps.CodonNumber:\n",
    "    if translate(Psul_codons[codon]) == translate(Xmac_codons[codon]):\n",
    "        Psul_synonymous_sites += translate(Psul_codons[codon])\n",
    "    else:\n",
    "        Psul_nonsynonymous_sites += translate(Psul_codons[codon])\n",
    "Psul_omega = len(Psul_nonsynonymous_sites) / len(Psul_synonymous_sites)\n",
    "\n",
    "if Gaff_omega < 1:\n",
    "    print(\"The dN/dS ratio for Poecilia sulphuraria is\", Psul_omega, \"which is indicative of purifying selection for this gene.\") \n",
    "else:\n",
    "    print(\"The dN/dS ratio for Poecilia sulphuraria is\", Psul_omega, \"which is indicative of positive selection for this gene.\")"
   ]
  }
 ],
 "metadata": {
  "kernelspec": {
   "display_name": "Python 3",
   "language": "python",
   "name": "python3"
  },
  "language_info": {
   "codemirror_mode": {
    "name": "ipython",
    "version": 3
   },
   "file_extension": ".py",
   "mimetype": "text/x-python",
   "name": "python",
   "nbconvert_exporter": "python",
   "pygments_lexer": "ipython3",
   "version": "3.7.1"
  }
 },
 "nbformat": 4,
 "nbformat_minor": 2
}
