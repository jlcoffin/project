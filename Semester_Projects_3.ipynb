{
 "cells": [
  {
   "cell_type": "code",
   "execution_count": 23,
   "metadata": {},
   "outputs": [],
   "source": [
    "#MODULES\n",
    "\n",
    "import glob                                           #glob is for managing the working directory\n",
    "\n",
    "import Bio                                            #biopython\n",
    "\n",
    "from Bio import SeqIO                                 #SeqIO is useful for inputting and outputting sequence files \n",
    "                                                      #and converting between different file formats\n",
    "    \n",
    "from Bio import AlignIO                               #AlignIO is useful for working with alignment input and output files\n",
    "\n",
    "import Bio.pairwise2 as pw2                           #pairwise2 is for aligning 2 sequences in a pairwise fashion\n",
    "\n",
    "from Bio.pairwise2 import format_alignment            #this formats alignment files for human readability\n",
    "\n",
    "from Bio.Align.Applications import MuscleCommandline  #MUSCLE is an alignment software to produce multiple alignments\n",
    "\n",
    "from Bio.Alphabet import generic_dna\n",
    "from Bio.Seq import Seq\n",
    "from Bio.SeqRecord import SeqRecord\n",
    "from Bio.Align import MultipleSeqAlignment\n",
    "\n",
    "import pandas as pd\n",
    "\n",
    "import matplotlib.pyplot as plt\n",
    "%matplotlib inline"
   ]
  },
  {
   "cell_type": "code",
   "execution_count": 24,
   "metadata": {},
   "outputs": [],
   "source": [
    "glob.os.chdir(\"/Users/johncoffin/Desktop/Coding/project/\")"
   ]
  },
  {
   "cell_type": "code",
   "execution_count": 25,
   "metadata": {},
   "outputs": [],
   "source": [
    "#Sequence inputs\n",
    "\n",
    "Gaff = \"ATGACTCCTCTTATTTACTCCACCCTAATTATCAGCCTTGGAATTGGCACCACCCTAACATTTGCCAGCACCCACTGATATCTCGCCTGAATAGGCATTGAAATCAACACATTAGCTATTATTCCCCTTATAACACAAAGCCACAGCCCCCGAGCAACTGAAGCCACCACTAAGTACTTCTTCGCACAAGCCACCGCCTCAGCCACACTTCTCTTCGCTGCTACCTCTAACGCTTTCTTCACTGGAAGTTGAGACATTCTTCAAACCAATAATCCCCTTACCTATACCCTAATAACCCTTGCCCTGGCCATAAAAATTGGCCTAGCCCCGCTTCACAGCTGAATGCCCGAAGTAATGCAAGGCCTAACTTTACTTACAGGCCTGATCCTTTCCACCTGACAAAAACTTGCCCCCTTTTGCCTTATTTATCAAATTCAACCGCACAGCCCGAACCTTTTCATGGCCTTAGGGCTCCTGTCCATTGTTGCAGGGGGATGAGGAGGCTTCAACCAAGTACAGCTACGAAAAATCCTTGCATACTCATCAATTGCCCATCTCGGATGAATAGTTCTTATCCTTTCTTTCTCGCCCCCTCTAACACTTGTTGCCTTTTCCACTTATCTTATAATAACTTTCTCCCTATTTTATTCTTTTATAATAACCAAAACCACACACATTAATTCCCTTTCCACCTCCTGAGCCAAAATTCCAACTCTCACCGCTTTAACCCCCCTAATTCTTCTCTCCCTTGGAGGCCTGCCCCCTCTAACAGGATTTTTACCAAAATGAATAATCCTTCAAGAACTGACCAAACAAGACCTAGCCCTAGTCGCCGTCCTCGCCGCCCTATTTTCACTCTTTAGTCTTTATTTTTACCTCCGACTATCATACGCAATAACATTAACTATACCCCCGAATAACCCCGCAGGAACCCTTCCTTGGCGACTCAACCCCTCCCACAATACCCTCCCCCCAGCTTTAACTACCACAATAACAATTTTTCTTCTCCCAATCACCCCAGCCTTTATAACACTCTTTTTCCTCTAA\"\n",
    "Pmex = \"ATGGCTCCCCTAATCTACTCCGCCCTCATCATTAGTCTTGGCCTCGGTACAACCATAACCTTTGCCAGCACCCATTGATACCTTGCCTGAATAGGCATCGAAATTAATACATTAGCCATCATCCCTCTAATAGCCCAAAACCACATCCCCCGAGCAATTGAAGCTACCACTAAATACTTTTTTGTCCAAGCGACTGCCTCAGCAACACTTCTATTTGCTGGTATCTCCAACGCATTTCTAACCGGACAATGAGATATTACCTACACCCCCTATACCCTTACTTCTACACTAATTACCCTTGCCCTTGCAATAAAAATTGGCCTTGCCCCCCTTCACAGCTGAATACCAGAAGTAATGCAAGGCCTTAATTTACTTACCGGGCTGATTTTATCCACTTGACAAAAACTTGCCCCCTTATACCTAATTTATCAAATTCAACCAAACAACCCAAACATTTTTATTGCCTTAGGCCTTATATCTATTATTGTTGGAGGATGAGGAGGATTCAACCAAGTCCAACTTCGAAAAATCCTAGCATACTCATCAATCGCCCACCTAGGGTGAATAATCTTAATTCTCTCATTTTCACCCCCACTCGCCCTACTCACCATTATCATTTACATTTTAATAACCTTCTCATTATTCTCCTCTTTTATACTAACCCGCACCACCCATATCAACTCCCTTTCCACCACCTGAGCCAAAATTCCAATCCTTACTATTTCCACCCCTCTAATCCTTCTATCCCTAGGCGGACTACCCCCCCTTACAGGATTTATACCAAAATGAATAATCCTCCAAGAATTAACCAAACAAAGCCTATGCCCACTCGCCACCATAGCTGCACTCTCATCCCTTTTCAGCCTTTATTTTTACCTCCGACTATCATACGCAATAACACTCACTATACCACCAAATAACCCTGCAGGGACACTCCCATGACGACTTAACCCTCGACACAACACCCTTCCCCTAGCCCTAACAACCACCTCAACAATTTGCCTCCTTCCCATAACCCCCGCTATCATATCCCTAATACCTTTCTGA\"\n",
    "Psul = \"ATGGCTCCCCCAATCTACTCCGCCCTCATCATCAGTCTTGGCCTCGGTACAACCATAACCTTTGCCAGCACCCATTGATTCCTTGCCTGAATAGGCATCGAAATTAATACATTAGCCATCATCCCTCTAATAGCCCAAAACCACATCCCCCGAGCAATTGAAGCTACCACTAAATACTTTTTTGTCCAAGCGACTGCCTCAGCAACACTTCTATTTGCTGGTATCTCCAACGCATTTCTTACCGGACAATGAGATATTACCCACACCCCCTATACCCTCACTTCTACACTAATTACCCTTGCCCTTGCAATAAAAATTGGCCTTGCCCCCCTTCACAGCTGAATACCAGAAGTAATGCAAGGCCTTAATTTACTTACCGGACTGATTCTATCCACTTGACAAAAACTTGCCCCCTTATACCTAATTTATCAAATTCAACCAAACAACCCAAACATTTTTATTGCCTTAGGCCTTCTATCTATTATTGTTGGAGGATGAGGAGGATTCAACCAAGTCCAACTTCGAAAAATCCTAGCATACTCATCAATCGCCCACCTAGGGTGAATAATCTTAATTCTCCCATTTTCACCCCCACTCGCCCTACTCACCATTATTATTTACATTTTAATAACCTTCTCATTATTCTCCTCTTTTATACTAACCCGCACCACCCACATCAACTCCCTTTCCACTACCTGAGCCAAAATTCCAATCCTTACTATCTCCACCCCCCTAATCCTTCTATCCCTAGGAGGACTACCCCCTCTTACAGGATTTATACCAAAATGAATAATCCTCCAAGAATTAACCAAACAAAGCCTATGCCCACTCGCCACCATAGCTGCACTCTCATCCCTTTTCAGCCTTTATTTTTACCTCCGACTATCATACGCAATAACACTCACTATACCACCAAATAACCCTGCAGGGACACTCCCATGACGACTTAACCCTCGACACAATACCCTTCCCCTAGCCCTAACAACCACCTCAACAATTTGCCTCCTTCCCATAACCCCCACTATCATATCCCTAATACCTTTCTAG\"\n",
    "Xmac = \"ATGGCTCCCTTTGTTTACTCCACCCTTATCATTAGTCTTGGTCTCGGCACAGCCATAACCTTCGCCAGCACCCACTGATACCTCGCCTGAATAGGCATCGAAATCAATACACTAGCCATTATCCCCCTAATAACCCAAAACCACAACCCTCGAGCAATTGAAGCCACCACCAAATACTTTTTTGCACAAGCCACCGCTTCAGCAACACTGCTATTCGCCGCTGTCTCAAATGCATTCTTGACCGGGGGATGAGACATTCTTCAAATCAACCACCCCCTAACTTCCACACTCACCACCCTAGCTCTAGCTATAAAAATCGGTCTCGCCCCCCTCCACAGCTGAATGCCAGAAGTAATACAAGGCTTAAGCCTACTTACCGGCCTTATCCTTTCCACTTGGCAAAAACTTGCCCCCTTTTGCCTCATTTACCAAATTCAGCCAGACAACCCCAATGTTTTCATTACCTTAGGCCTCTTATCTGTGATCGTGGGCGGCTGAGGGGGTTTCAACCAAGTCCAACTCCGAAAAATTCTTGCATACTCATCAATCGCCCATCTGGGCTGAATAATTCTCATTCTCCCATTCTCACCCCCTCTCACCTTACTTACCCTTTTTACTTACCTAATAATGACCTTTTCACTTTTTTCCTCCTTCATACTAGTTCGCACCACACATATTAACTCTTTATCCATCTCCTGAGCCAAAATCCCAACTCTTACTGCTTCTGTCCCCCTCATCCTCTTATCCCTGGGAGGTCTACCACCCCTAACAGGATTCTTACCAAAATGACTTATCCTCCAAGAGTTAACCAAACAAGACCTGGCCCCAATTGCCACTCTCGCTGCCCTTTCATCCCTCTTCAGCCTTTATTTTTATCTCCGACTATCATACACAATAACACTCACTATGCCCCCAAACAACCCCGCCGGAACACTCCCCTGACGACTTAACCCCCAACACAACACCCTCCCCCTGGCTTTAACCACCACCACAACAATTTTCCTTCTCCCTGCCACCCCAACCATTCTGGCTCTTTTCACTTTCTGA\"\n"
   ]
  },
  {
   "cell_type": "code",
   "execution_count": 26,
   "metadata": {},
   "outputs": [],
   "source": [
    "non_sub = []\n",
    "variants = []\n",
    "for nt in range(0,len(Gaff)):\n",
    "    if (Gaff[nt] == Pmex[nt] and Gaff[nt] == Psul[nt] and Gaff[nt] == Xmac[nt]):\n",
    "        non_sub.append(nt)\n",
    "    else:\n",
    "        variants.append(nt)"
   ]
  },
  {
   "cell_type": "code",
   "execution_count": 27,
   "metadata": {},
   "outputs": [
    {
     "data": {
      "text/plain": [
       "320"
      ]
     },
     "execution_count": 27,
     "metadata": {},
     "output_type": "execute_result"
    }
   ],
   "source": [
    "len(variants)"
   ]
  },
  {
   "cell_type": "code",
   "execution_count": 28,
   "metadata": {},
   "outputs": [
    {
     "data": {
      "text/html": [
       "<div>\n",
       "<style scoped>\n",
       "    .dataframe tbody tr th:only-of-type {\n",
       "        vertical-align: middle;\n",
       "    }\n",
       "\n",
       "    .dataframe tbody tr th {\n",
       "        vertical-align: top;\n",
       "    }\n",
       "\n",
       "    .dataframe thead th {\n",
       "        text-align: right;\n",
       "    }\n",
       "</style>\n",
       "<table border=\"1\" class=\"dataframe\">\n",
       "  <thead>\n",
       "    <tr style=\"text-align: right;\">\n",
       "      <th></th>\n",
       "      <th>0</th>\n",
       "    </tr>\n",
       "  </thead>\n",
       "  <tbody>\n",
       "    <tr>\n",
       "      <th>3</th>\n",
       "      <td>A</td>\n",
       "    </tr>\n",
       "    <tr>\n",
       "      <th>8</th>\n",
       "      <td>T</td>\n",
       "    </tr>\n",
       "    <tr>\n",
       "      <th>9</th>\n",
       "      <td>C</td>\n",
       "    </tr>\n",
       "    <tr>\n",
       "      <th>10</th>\n",
       "      <td>T</td>\n",
       "    </tr>\n",
       "    <tr>\n",
       "      <th>11</th>\n",
       "      <td>T</td>\n",
       "    </tr>\n",
       "    <tr>\n",
       "      <th>12</th>\n",
       "      <td>A</td>\n",
       "    </tr>\n",
       "    <tr>\n",
       "      <th>14</th>\n",
       "      <td>T</td>\n",
       "    </tr>\n",
       "    <tr>\n",
       "      <th>21</th>\n",
       "      <td>A</td>\n",
       "    </tr>\n",
       "    <tr>\n",
       "      <th>26</th>\n",
       "      <td>A</td>\n",
       "    </tr>\n",
       "    <tr>\n",
       "      <th>29</th>\n",
       "      <td>T</td>\n",
       "    </tr>\n",
       "    <tr>\n",
       "      <th>32</th>\n",
       "      <td>C</td>\n",
       "    </tr>\n",
       "    <tr>\n",
       "      <th>35</th>\n",
       "      <td>C</td>\n",
       "    </tr>\n",
       "    <tr>\n",
       "      <th>41</th>\n",
       "      <td>A</td>\n",
       "    </tr>\n",
       "    <tr>\n",
       "      <th>42</th>\n",
       "      <td>A</td>\n",
       "    </tr>\n",
       "    <tr>\n",
       "      <th>44</th>\n",
       "      <td>T</td>\n",
       "    </tr>\n",
       "    <tr>\n",
       "      <th>47</th>\n",
       "      <td>C</td>\n",
       "    </tr>\n",
       "    <tr>\n",
       "      <th>50</th>\n",
       "      <td>C</td>\n",
       "    </tr>\n",
       "    <tr>\n",
       "      <th>51</th>\n",
       "      <td>A</td>\n",
       "    </tr>\n",
       "    <tr>\n",
       "      <th>54</th>\n",
       "      <td>C</td>\n",
       "    </tr>\n",
       "    <tr>\n",
       "      <th>59</th>\n",
       "      <td>A</td>\n",
       "    </tr>\n",
       "    <tr>\n",
       "      <th>62</th>\n",
       "      <td>T</td>\n",
       "    </tr>\n",
       "    <tr>\n",
       "      <th>74</th>\n",
       "      <td>C</td>\n",
       "    </tr>\n",
       "    <tr>\n",
       "      <th>79</th>\n",
       "      <td>A</td>\n",
       "    </tr>\n",
       "    <tr>\n",
       "      <th>80</th>\n",
       "      <td>T</td>\n",
       "    </tr>\n",
       "    <tr>\n",
       "      <th>83</th>\n",
       "      <td>C</td>\n",
       "    </tr>\n",
       "    <tr>\n",
       "      <th>98</th>\n",
       "      <td>T</td>\n",
       "    </tr>\n",
       "    <tr>\n",
       "      <th>104</th>\n",
       "      <td>C</td>\n",
       "    </tr>\n",
       "    <tr>\n",
       "      <th>107</th>\n",
       "      <td>C</td>\n",
       "    </tr>\n",
       "    <tr>\n",
       "      <th>111</th>\n",
       "      <td>T</td>\n",
       "    </tr>\n",
       "    <tr>\n",
       "      <th>116</th>\n",
       "      <td>T</td>\n",
       "    </tr>\n",
       "    <tr>\n",
       "      <th>...</th>\n",
       "      <td>...</td>\n",
       "    </tr>\n",
       "    <tr>\n",
       "      <th>983</th>\n",
       "      <td>T</td>\n",
       "    </tr>\n",
       "    <tr>\n",
       "      <th>989</th>\n",
       "      <td>A</td>\n",
       "    </tr>\n",
       "    <tr>\n",
       "      <th>990</th>\n",
       "      <td>A</td>\n",
       "    </tr>\n",
       "    <tr>\n",
       "      <th>991</th>\n",
       "      <td>T</td>\n",
       "    </tr>\n",
       "    <tr>\n",
       "      <th>1000</th>\n",
       "      <td>T</td>\n",
       "    </tr>\n",
       "    <tr>\n",
       "      <th>1001</th>\n",
       "      <td>T</td>\n",
       "    </tr>\n",
       "    <tr>\n",
       "      <th>1004</th>\n",
       "      <td>T</td>\n",
       "    </tr>\n",
       "    <tr>\n",
       "      <th>1007</th>\n",
       "      <td>C</td>\n",
       "    </tr>\n",
       "    <tr>\n",
       "      <th>1010</th>\n",
       "      <td>A</td>\n",
       "    </tr>\n",
       "    <tr>\n",
       "      <th>1011</th>\n",
       "      <td>A</td>\n",
       "    </tr>\n",
       "    <tr>\n",
       "      <th>1012</th>\n",
       "      <td>T</td>\n",
       "    </tr>\n",
       "    <tr>\n",
       "      <th>1013</th>\n",
       "      <td>C</td>\n",
       "    </tr>\n",
       "    <tr>\n",
       "      <th>1019</th>\n",
       "      <td>A</td>\n",
       "    </tr>\n",
       "    <tr>\n",
       "      <th>1020</th>\n",
       "      <td>G</td>\n",
       "    </tr>\n",
       "    <tr>\n",
       "      <th>1022</th>\n",
       "      <td>C</td>\n",
       "    </tr>\n",
       "    <tr>\n",
       "      <th>1023</th>\n",
       "      <td>T</td>\n",
       "    </tr>\n",
       "    <tr>\n",
       "      <th>1025</th>\n",
       "      <td>T</td>\n",
       "    </tr>\n",
       "    <tr>\n",
       "      <th>1026</th>\n",
       "      <td>A</td>\n",
       "    </tr>\n",
       "    <tr>\n",
       "      <th>1028</th>\n",
       "      <td>A</td>\n",
       "    </tr>\n",
       "    <tr>\n",
       "      <th>1029</th>\n",
       "      <td>A</td>\n",
       "    </tr>\n",
       "    <tr>\n",
       "      <th>1031</th>\n",
       "      <td>A</td>\n",
       "    </tr>\n",
       "    <tr>\n",
       "      <th>1034</th>\n",
       "      <td>C</td>\n",
       "    </tr>\n",
       "    <tr>\n",
       "      <th>1035</th>\n",
       "      <td>T</td>\n",
       "    </tr>\n",
       "    <tr>\n",
       "      <th>1037</th>\n",
       "      <td>T</td>\n",
       "    </tr>\n",
       "    <tr>\n",
       "      <th>1038</th>\n",
       "      <td>T</td>\n",
       "    </tr>\n",
       "    <tr>\n",
       "      <th>1039</th>\n",
       "      <td>T</td>\n",
       "    </tr>\n",
       "    <tr>\n",
       "      <th>1040</th>\n",
       "      <td>C</td>\n",
       "    </tr>\n",
       "    <tr>\n",
       "      <th>1041</th>\n",
       "      <td>C</td>\n",
       "    </tr>\n",
       "    <tr>\n",
       "      <th>1045</th>\n",
       "      <td>A</td>\n",
       "    </tr>\n",
       "    <tr>\n",
       "      <th>1046</th>\n",
       "      <td>A</td>\n",
       "    </tr>\n",
       "  </tbody>\n",
       "</table>\n",
       "<p>320 rows × 1 columns</p>\n",
       "</div>"
      ],
      "text/plain": [
       "      0\n",
       "3     A\n",
       "8     T\n",
       "9     C\n",
       "10    T\n",
       "11    T\n",
       "12    A\n",
       "14    T\n",
       "21    A\n",
       "26    A\n",
       "29    T\n",
       "32    C\n",
       "35    C\n",
       "41    A\n",
       "42    A\n",
       "44    T\n",
       "47    C\n",
       "50    C\n",
       "51    A\n",
       "54    C\n",
       "59    A\n",
       "62    T\n",
       "74    C\n",
       "79    A\n",
       "80    T\n",
       "83    C\n",
       "98    T\n",
       "104   C\n",
       "107   C\n",
       "111   T\n",
       "116   T\n",
       "...  ..\n",
       "983   T\n",
       "989   A\n",
       "990   A\n",
       "991   T\n",
       "1000  T\n",
       "1001  T\n",
       "1004  T\n",
       "1007  C\n",
       "1010  A\n",
       "1011  A\n",
       "1012  T\n",
       "1013  C\n",
       "1019  A\n",
       "1020  G\n",
       "1022  C\n",
       "1023  T\n",
       "1025  T\n",
       "1026  A\n",
       "1028  A\n",
       "1029  A\n",
       "1031  A\n",
       "1034  C\n",
       "1035  T\n",
       "1037  T\n",
       "1038  T\n",
       "1039  T\n",
       "1040  C\n",
       "1041  C\n",
       "1045  A\n",
       "1046  A\n",
       "\n",
       "[320 rows x 1 columns]"
      ]
     },
     "execution_count": 28,
     "metadata": {},
     "output_type": "execute_result"
    }
   ],
   "source": [
    "variant_nucleotides = []\n",
    "variant_index = []\n",
    "\n",
    "for nt in variants:\n",
    "    variant_nucleotides.append(Gaff[nt])\n",
    "    variant_index.append(nt)\n",
    "    \n",
    "snps = pd.DataFrame(variant_nucleotides, variant_index)\n",
    "snps"
   ]
  },
  {
   "cell_type": "code",
   "execution_count": 29,
   "metadata": {},
   "outputs": [],
   "source": [
    "global_diversity = lambda num_variants, seq_length: len(num_variants) / len(seq_length)"
   ]
  },
  {
   "cell_type": "code",
   "execution_count": 30,
   "metadata": {},
   "outputs": [
    {
     "data": {
      "text/plain": [
       "0.30563514804202485"
      ]
     },
     "execution_count": 30,
     "metadata": {},
     "output_type": "execute_result"
    }
   ],
   "source": [
    "global_diversity(variants, Gaff)"
   ]
  },
  {
   "cell_type": "code",
   "execution_count": 31,
   "metadata": {},
   "outputs": [],
   "source": [
    "nuc_diversity = []\n",
    "for nt in range(0,len(Gaff)):\n",
    "    if (Gaff[nt] == Pmex[nt] and Gaff[nt] == Psul[nt] and Gaff[nt] == Xmac[nt]):\n",
    "        nuc_diversity.append(0)\n",
    "    elif (Gaff[nt] == Pmex[nt] and Gaff[nt] == Psul[nt] and Gaff[nt] != Xmac[nt]):\n",
    "        nuc_diversity.append(0.25)\n",
    "    elif (Gaff[nt] == Pmex[nt] and Gaff[nt] != Psul[nt] and Gaff[nt] != Xmac[nt]):\n",
    "        nuc_diversity.append(0.5)\n",
    "    else:\n",
    "        nuc_diversity.append(0)\n"
   ]
  },
  {
   "cell_type": "code",
   "execution_count": 32,
   "metadata": {},
   "outputs": [
    {
     "data": {
      "text/plain": [
       "[<matplotlib.lines.Line2D at 0x11c7666a0>]"
      ]
     },
     "execution_count": 32,
     "metadata": {},
     "output_type": "execute_result"
    },
    {
     "data": {
      "image/png": "[encoded data removed]",
      "text/plain": [
       "<Figure size 432x288 with 1 Axes>"
      ]
     },
     "metadata": {
      "needs_background": "light"
     },
     "output_type": "display_data"
    }
   ],
   "source": [
    "plt.plot(nuc_diversity)"
   ]
  },
  {
   "cell_type": "code",
   "execution_count": 33,
   "metadata": {},
   "outputs": [
    {
     "data": {
      "text/plain": [
       "[<matplotlib.lines.Line2D at 0x11c99e358>]"
      ]
     },
     "execution_count": 33,
     "metadata": {},
     "output_type": "execute_result"
    },
    {
     "data": {
      "image/png": "[encoded data removed]",
      "text/plain": [
       "<Figure size 432x288 with 1 Axes>"
      ]
     },
     "metadata": {
      "needs_background": "light"
     },
     "output_type": "display_data"
    }
   ],
   "source": [
    "nuc_diversity = []\n",
    "for nt in range(0,len(Gaff)):\n",
    "    if (Gaff[nt] == Pmex[nt] and Gaff[nt] == Psul[nt] and Gaff[nt] == Xmac[nt]):\n",
    "        nuc_diversity.append(0)\n",
    "    elif (Gaff[nt] == Pmex[nt] and Gaff[nt] == Psul[nt] and Gaff[nt] != Xmac[nt]):\n",
    "        nuc_diversity.append(0.25)\n",
    "    elif (Pmex[nt] == Psul[nt] and Pmex[nt] == Xmac[nt] and Pmex[nt] != Gaff[nt]):\n",
    "        nuc_diversity.append(0.25)\n",
    "    elif (Gaff[nt] == Pmex[nt] and Pmex[nt] == Xmac[nt] and Pmex[nt] != Psul[nt]):\n",
    "        nuc_diversity.append(0.25)\n",
    "    elif (Gaff[nt] == Pmex[nt] and Gaff[nt] != Psul[nt] and Gaff[nt] != Xmac[nt]):\n",
    "        nuc_diversity.append(0.5)\n",
    "    elif (Gaff[nt] == Xmac[nt] and Gaff[nt] != Pmex[nt] and Psul[nt] != Xmac[nt]):\n",
    "        nuc_diversity.append(0.5)\n",
    "    elif (Gaff[nt] != Pmex[nt] and Gaff[nt] != Psul[nt] and Gaff[nt] != Xmac[nt] and Pmex[nt] == Psul[nt] and Xmac[nt] != Pmex[nt] and Xmac[nt] != Psul[nt]):\n",
    "        nuc_diversity.append(0.75)\n",
    "    else:\n",
    "        nuc_diversity.append(0)\n",
    "plt.plot(nuc_diversity)"
   ]
  },
  {
   "cell_type": "code",
   "execution_count": 34,
   "metadata": {},
   "outputs": [],
   "source": [
    "affinis = Seq(\"ATGACTCCTCTTATTTACTCCACCCTAATTATCAGCCTTGGAATTGGCACCACCCTAACATTTGCCAGCACCCACTGATATCTCGCCTGAATAGGCATTGAAATCAACACATTAGCTATTATTCCCCTTATAACACAAAGCCACAGCCCCCGAGCAACTGAAGCCACCACTAAGTACTTCTTCGCACAAGCCACCGCCTCAGCCACACTTCTCTTCGCTGCTACCTCTAACGCTTTCTTCACTGGAAGTTGAGACATTCTTCAAACCAATAATCCCCTTACCTATACCCTAATAACCCTTGCCCTGGCCATAAAAATTGGCCTAGCCCCGCTTCACAGCTGAATGCCCGAAGTAATGCAAGGCCTAACTTTACTTACAGGCCTGATCCTTTCCACCTGACAAAAACTTGCCCCCTTTTGCCTTATTTATCAAATTCAACCGCACAGCCCGAACCTTTTCATGGCCTTAGGGCTCCTGTCCATTGTTGCAGGGGGATGAGGAGGCTTCAACCAAGTACAGCTACGAAAAATCCTTGCATACTCATCAATTGCCCATCTCGGATGAATAGTTCTTATCCTTTCTTTCTCGCCCCCTCTAACACTTGTTGCCTTTTCCACTTATCTTATAATAACTTTCTCCCTATTTTATTCTTTTATAATAACCAAAACCACACACATTAATTCCCTTTCCACCTCCTGAGCCAAAATTCCAACTCTCACCGCTTTAACCCCCCTAATTCTTCTCTCCCTTGGAGGCCTGCCCCCTCTAACAGGATTTTTACCAAAATGAATAATCCTTCAAGAACTGACCAAACAAGACCTAGCCCTAGTCGCCGTCCTCGCCGCCCTATTTTCACTCTTTAGTCTTTATTTTTACCTCCGACTATCATACGCAATAACATTAACTATACCCCCGAATAACCCCGCAGGAACCCTTCCTTGGCGACTCAACCCCTCCCACAATACCCTCCCCCCAGCTTTAACTACCACAATAACAATTTTTCTTCTCCCAATCACCCCAGCCTTTATAACACTCTTTTTCCTCTAA\")\n",
    "mexicana = Seq(\"ATGGCTCCCCTAATCTACTCCGCCCTCATCATTAGTCTTGGCCTCGGTACAACCATAACCTTTGCCAGCACCCATTGATACCTTGCCTGAATAGGCATCGAAATTAATACATTAGCCATCATCCCTCTAATAGCCCAAAACCACATCCCCCGAGCAATTGAAGCTACCACTAAATACTTTTTTGTCCAAGCGACTGCCTCAGCAACACTTCTATTTGCTGGTATCTCCAACGCATTTCTAACCGGACAATGAGATATTACCTACACCCCCTATACCCTTACTTCTACACTAATTACCCTTGCCCTTGCAATAAAAATTGGCCTTGCCCCCCTTCACAGCTGAATACCAGAAGTAATGCAAGGCCTTAATTTACTTACCGGGCTGATTTTATCCACTTGACAAAAACTTGCCCCCTTATACCTAATTTATCAAATTCAACCAAACAACCCAAACATTTTTATTGCCTTAGGCCTTATATCTATTATTGTTGGAGGATGAGGAGGATTCAACCAAGTCCAACTTCGAAAAATCCTAGCATACTCATCAATCGCCCACCTAGGGTGAATAATCTTAATTCTCTCATTTTCACCCCCACTCGCCCTACTCACCATTATCATTTACATTTTAATAACCTTCTCATTATTCTCCTCTTTTATACTAACCCGCACCACCCATATCAACTCCCTTTCCACCACCTGAGCCAAAATTCCAATCCTTACTATTTCCACCCCTCTAATCCTTCTATCCCTAGGCGGACTACCCCCCCTTACAGGATTTATACCAAAATGAATAATCCTCCAAGAATTAACCAAACAAAGCCTATGCCCACTCGCCACCATAGCTGCACTCTCATCCCTTTTCAGCCTTTATTTTTACCTCCGACTATCATACGCAATAACACTCACTATACCACCAAATAACCCTGCAGGGACACTCCCATGACGACTTAACCCTCGACACAACACCCTTCCCCTAGCCCTAACAACCACCTCAACAATTTGCCTCCTTCCCATAACCCCCGCTATCATATCCCTAATACCTTTCTGA\")\n",
    "sulphuraria = Seq(\"ATGGCTCCCCCAATCTACTCCGCCCTCATCATCAGTCTTGGCCTCGGTACAACCATAACCTTTGCCAGCACCCATTGATTCCTTGCCTGAATAGGCATCGAAATTAATACATTAGCCATCATCCCTCTAATAGCCCAAAACCACATCCCCCGAGCAATTGAAGCTACCACTAAATACTTTTTTGTCCAAGCGACTGCCTCAGCAACACTTCTATTTGCTGGTATCTCCAACGCATTTCTTACCGGACAATGAGATATTACCCACACCCCCTATACCCTCACTTCTACACTAATTACCCTTGCCCTTGCAATAAAAATTGGCCTTGCCCCCCTTCACAGCTGAATACCAGAAGTAATGCAAGGCCTTAATTTACTTACCGGACTGATTCTATCCACTTGACAAAAACTTGCCCCCTTATACCTAATTTATCAAATTCAACCAAACAACCCAAACATTTTTATTGCCTTAGGCCTTCTATCTATTATTGTTGGAGGATGAGGAGGATTCAACCAAGTCCAACTTCGAAAAATCCTAGCATACTCATCAATCGCCCACCTAGGGTGAATAATCTTAATTCTCCCATTTTCACCCCCACTCGCCCTACTCACCATTATTATTTACATTTTAATAACCTTCTCATTATTCTCCTCTTTTATACTAACCCGCACCACCCACATCAACTCCCTTTCCACTACCTGAGCCAAAATTCCAATCCTTACTATCTCCACCCCCCTAATCCTTCTATCCCTAGGAGGACTACCCCCTCTTACAGGATTTATACCAAAATGAATAATCCTCCAAGAATTAACCAAACAAAGCCTATGCCCACTCGCCACCATAGCTGCACTCTCATCCCTTTTCAGCCTTTATTTTTACCTCCGACTATCATACGCAATAACACTCACTATACCACCAAATAACCCTGCAGGGACACTCCCATGACGACTTAACCCTCGACACAATACCCTTCCCCTAGCCCTAACAACCACCTCAACAATTTGCCTCCTTCCCATAACCCCCACTATCATATCCCTAATACCTTTCTAG\")\n",
    "maculatus = Seq(\"ATGGCTCCCTTTGTTTACTCCACCCTTATCATTAGTCTTGGTCTCGGCACAGCCATAACCTTCGCCAGCACCCACTGATACCTCGCCTGAATAGGCATCGAAATCAATACACTAGCCATTATCCCCCTAATAACCCAAAACCACAACCCTCGAGCAATTGAAGCCACCACCAAATACTTTTTTGCACAAGCCACCGCTTCAGCAACACTGCTATTCGCCGCTGTCTCAAATGCATTCTTGACCGGGGGATGAGACATTCTTCAAATCAACCACCCCCTAACTTCCACACTCACCACCCTAGCTCTAGCTATAAAAATCGGTCTCGCCCCCCTCCACAGCTGAATGCCAGAAGTAATACAAGGCTTAAGCCTACTTACCGGCCTTATCCTTTCCACTTGGCAAAAACTTGCCCCCTTTTGCCTCATTTACCAAATTCAGCCAGACAACCCCAATGTTTTCATTACCTTAGGCCTCTTATCTGTGATCGTGGGCGGCTGAGGGGGTTTCAACCAAGTCCAACTCCGAAAAATTCTTGCATACTCATCAATCGCCCATCTGGGCTGAATAATTCTCATTCTCCCATTCTCACCCCCTCTCACCTTACTTACCCTTTTTACTTACCTAATAATGACCTTTTCACTTTTTTCCTCCTTCATACTAGTTCGCACCACACATATTAACTCTTTATCCATCTCCTGAGCCAAAATCCCAACTCTTACTGCTTCTGTCCCCCTCATCCTCTTATCCCTGGGAGGTCTACCACCCCTAACAGGATTCTTACCAAAATGACTTATCCTCCAAGAGTTAACCAAACAAGACCTGGCCCCAATTGCCACTCTCGCTGCCCTTTCATCCCTCTTCAGCCTTTATTTTTATCTCCGACTATCATACACAATAACACTCACTATGCCCCCAAACAACCCCGCCGGAACACTCCCCTGACGACTTAACCCCCAACACAACACCCTCCCCCTGGCTTTAACCACCACCACAACAATTTTCCTTCTCCCTGCCACCCCAACCATTCTGGCTCTTTTCACTTTCTGA\")\n",
    "\n",
    "affinis_prot = affinis.translate()\n",
    "mexicana_prot = mexicana.translate()\n",
    "sulphuraria_prot = sulphuraria.translate()\n",
    "maculatus_prot = maculatus.translate()"
   ]
  },
  {
   "cell_type": "code",
   "execution_count": 36,
   "metadata": {},
   "outputs": [],
   "source": [
    "nonsyn = []\n",
    "syn = []\n",
    "\n",
    "for aa in range(0, len(Gaff_prot)):\n",
    "    if affinis_prot[aa] == maculatus_prot[aa]:\n",
    "        syn.append(aa)\n",
    "    else:\n",
    "        nonsyn.append(aa)"
   ]
  },
  {
   "cell_type": "code",
   "execution_count": 37,
   "metadata": {},
   "outputs": [],
   "source": [
    "dN_to_dS = len(nonsyn) / len(syn)"
   ]
  },
  {
   "cell_type": "code",
   "execution_count": 38,
   "metadata": {},
   "outputs": [
    {
     "data": {
      "text/plain": [
       "0.20344827586206896"
      ]
     },
     "execution_count": 38,
     "metadata": {},
     "output_type": "execute_result"
    }
   ],
   "source": [
    "dN_to_dS"
   ]
  },
  {
   "cell_type": "code",
   "execution_count": 39,
   "metadata": {},
   "outputs": [],
   "source": [
    "#what I still need to do:\n",
    "\n",
    "#find a way to calculate nonsyn and syn, but only for the sites identified as variants in the above cells"
   ]
  },
  {
   "cell_type": "code",
   "execution_count": null,
   "metadata": {},
   "outputs": [],
   "source": []
  }
 ],
 "metadata": {
  "kernelspec": {
   "display_name": "Python 3",
   "language": "python",
   "name": "python3"
  },
  "language_info": {
   "codemirror_mode": {
    "name": "ipython",
    "version": 3
   },
   "file_extension": ".py",
   "mimetype": "text/x-python",
   "name": "python",
   "nbconvert_exporter": "python",
   "pygments_lexer": "ipython3",
   "version": "3.7.1"
  }
 },
 "nbformat": 4,
 "nbformat_minor": 2
}
