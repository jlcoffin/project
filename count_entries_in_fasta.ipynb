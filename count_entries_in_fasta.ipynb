{
 "cells": [
  {
   "cell_type": "code",
   "execution_count": null,
   "metadata": {},
   "outputs": [],
   "source": [
    "glob.os.chdir(\"/Users/johncoffin/Downloads/\") #set working directory\n",
    "\n",
    "def count_entries(filename):\n",
    "    import Bio.SeqIO\n",
    "    count = 0\n",
    "    for entry in filename:\n",
    "        SeqIO.parse(filename, \"fasta\")\n",
    "        count = count + 1\n",
    "    return count\n",
    "\n",
    "count_entries(\"gaff_nd2.fasta\")"
   ]
  }
 ],
 "metadata": {
  "kernelspec": {
   "display_name": "Python 3",
   "language": "python",
   "name": "python3"
  },
  "language_info": {
   "codemirror_mode": {
    "name": "ipython",
    "version": 3
   },
   "file_extension": ".py",
   "mimetype": "text/x-python",
   "name": "python",
   "nbconvert_exporter": "python",
   "pygments_lexer": "ipython3",
   "version": "3.7.1"
  }
 },
 "nbformat": 4,
 "nbformat_minor": 2
}
