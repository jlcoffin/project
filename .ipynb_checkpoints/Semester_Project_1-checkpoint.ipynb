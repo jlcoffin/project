{
 "cells": [
  {
   "cell_type": "code",
   "execution_count": 102,
   "metadata": {},
   "outputs": [],
   "source": [
    "#Check out this website for biopython alignment modules and commands to implement:\n",
    "#http://mattshirley.com/uploads/2014/04/sequence_alignment_biopython.slides.html#/\n",
    "import Bio\n",
    "import Bio.SeqIO\n",
    "import Bio.pairwise2 as pw2\n",
    "from Bio.pairwise2 import format_alignment\n",
    "from Bio.Align.Applications import MuscleCommandline\n",
    "import glob\n",
    "from Bio import AlignIO"
   ]
  },
  {
   "cell_type": "code",
   "execution_count": 103,
   "metadata": {},
   "outputs": [],
   "source": [
    "Gaff = \"ATGACTCCTCTTATTTACTCCACCCTAAT\" #Gaffinis nd2 sequence excerpt\n",
    "Pmex = \"ATGGCTCCCCTAATCTACTCCGCCCTCAT\" #Pmexicana nd2 sequence excerpt\n",
    "Xmac = \"ATGGCTCCCTTTGTTTACTCCACCCTTAT\" #Xmac nd2 seq excerpt"
   ]
  },
  {
   "cell_type": "code",
   "execution_count": 104,
   "metadata": {},
   "outputs": [
    {
     "name": "stdout",
     "output_type": "stream",
     "text": [
      "len(Gaff) = 29\n",
      "len(Pmex) = 29\n",
      "len(Xmac) = 29\n"
     ]
    }
   ],
   "source": [
    "print(\"len(Gaff) =\",len(Gaff))\n",
    "print(\"len(Pmex) =\",len(Pmex))\n",
    "print(\"len(Xmac) =\", len(Xmac))"
   ]
  },
  {
   "cell_type": "code",
   "execution_count": 105,
   "metadata": {},
   "outputs": [],
   "source": [
    "Gaff_Xmac_align = pw2.align.localms(Gaff, Xmac, 2, -1, -1, -0.5)\n",
    "Pmex_Xmac_align = pw2.align.localms(Pmex, Xmac, 2, -1, -1, -0.5)"
   ]
  },
  {
   "cell_type": "code",
   "execution_count": 106,
   "metadata": {},
   "outputs": [
    {
     "name": "stdout",
     "output_type": "stream",
     "text": [
      "ATGACTCCTCTTA-TTTACTCCACCCTAAT\n",
      "|||.|||| |||. |||||||||||||.||\n",
      "ATGGCTCC-CTTTGTTTACTCCACCCTTAT\n",
      "  Score=45\n",
      "\n",
      "ATGACTCCTCTT-ATTTACTCCACCCTAAT\n",
      "|||.|||| ||| .|||||||||||||.||\n",
      "ATGGCTCC-CTTTGTTTACTCCACCCTTAT\n",
      "  Score=45\n",
      "\n",
      "ATGACTCCTCT-TATTTACTCCACCCTAAT\n",
      "|||.|||| || |.|||||||||||||.||\n",
      "ATGGCTCC-CTTTGTTTACTCCACCCTTAT\n",
      "  Score=45\n",
      "\n",
      "ATGACTCCTC-TTATTTACTCCACCCTAAT\n",
      "|||.|||| | ||.|||||||||||||.||\n",
      "ATGGCTCC-CTTTGTTTACTCCACCCTTAT\n",
      "  Score=45\n",
      "\n",
      "ATGACTCC-TCTTATTTACTCCACCCTAAT\n",
      "|||.|||| | ||.|||||||||||||.||\n",
      "ATGGCTCCCT-TTGTTTACTCCACCCTTAT\n",
      "  Score=45\n",
      "\n",
      "ATGACTC-CTCTTATTTACTCCACCCTAAT\n",
      "|||.||| || ||.|||||||||||||.||\n",
      "ATGGCTCCCT-TTGTTTACTCCACCCTTAT\n",
      "  Score=45\n",
      "\n",
      "ATGACT-CCTCTTATTTACTCCACCCTAAT\n",
      "|||.|| ||| ||.|||||||||||||.||\n",
      "ATGGCTCCCT-TTGTTTACTCCACCCTTAT\n",
      "  Score=45\n",
      "\n"
     ]
    }
   ],
   "source": [
    "for i in Gaff_Xmac_align:\n",
    "    print(format_alignment(*i))"
   ]
  },
  {
   "cell_type": "code",
   "execution_count": 107,
   "metadata": {},
   "outputs": [
    {
     "name": "stdout",
     "output_type": "stream",
     "text": [
      "ATGGCTCCCCTAATCTACTCCGCCCTCAT\n",
      "|||||||||.|..|.||||||.||||.||\n",
      "ATGGCTCCCTTTGTTTACTCCACCCTTAT\n",
      "  Score=40\n",
      "\n"
     ]
    }
   ],
   "source": [
    "for j in Pmex_Xmac_align:\n",
    "    print(format_alignment(*j))"
   ]
  },
  {
   "cell_type": "code",
   "execution_count": 108,
   "metadata": {},
   "outputs": [
    {
     "name": "stdout",
     "output_type": "stream",
     "text": [
      "Record NC_004388.1:4027-5073, length 1047\n"
     ]
    }
   ],
   "source": [
    "# Read the README at this website for more info on SeqIO: https://github.com/peterjc/biopython_workshop\n",
    "\n",
    "#Find length of input sequences with SeqIO.parse()\n",
    "\n",
    "glob.os.chdir(\"/Users/johncoffin/Downloads/\") #set working directory\n",
    "\n",
    "from Bio import SeqIO\n",
    "filename = \"gaff_nd2.fasta\"\n",
    "for record in SeqIO.parse(filename, \"fasta\"):\n",
    "    print(\"Record \" + record.id + \", length \" + str(len(record.seq)))"
   ]
  },
  {
   "cell_type": "code",
   "execution_count": 109,
   "metadata": {},
   "outputs": [
    {
     "name": "stdout",
     "output_type": "stream",
     "text": [
      "Record ID is NC_004388.1:4027-5073 and it is 1047 bases long\n"
     ]
    }
   ],
   "source": [
    "record = SeqIO.read(\"gaff_nd2.fasta\", \"fasta\")\n",
    "print(\"Record ID is\",record.id, \"and it is\", len(record), \"bases long\")\n",
    "\n"
   ]
  },
  {
   "cell_type": "code",
   "execution_count": 121,
   "metadata": {},
   "outputs": [
    {
     "name": "stdout",
     "output_type": "stream",
     "text": [
      "locus tag: ['CGV34_mgp12']\n",
      "['MAPLIYSALIISLGLGTTMTFASTHWYLAWMGIEINTLAIIPLMAQNHIPRAIEATTKYFFVQATASATLLFAGISNAFLTGQWDITYTPYTLTSTLITLALAMKIGLAPLHSWMPEVMQGLNLLTGLILSTWQKLAPLYLIYQIQPNNPNIFIALGLMSIIVGGWGGFNQVQLRKILAYSSIAHLGWMILILSFSPPLALLTIIIYILMTFSLFSSFMLTRTTHINSLSTTWAKIPILTISTPLILLSLGGLPPLTGFMPKWMILQELTKQSLCPLATMAALSSLFSLYFYLRLSYAMTLTMPPNNPAGTLPWRLNPRHNTLPLALTTTSTICLLPMTPAIMSLMPF']\n",
      "type: gene\n",
      "location: [0:1045](+)\n",
      "qualifiers:\n",
      "    Key: db_xref, Value: ['GeneID:33409441']\n",
      "    Key: gene, Value: ['ND2']\n",
      "    Key: locus_tag, Value: ['CGV34_mgp12']\n",
      "\n"
     ]
    }
   ],
   "source": [
    "#Translate sequence\n",
    "glob.os.chdir(\"/Users/johncoffin/Downloads/\")\n",
    "record = SeqIO.read(\"pmex_nd2.gb\", \"genbank\")\n",
    "cds = record.features[2]\n",
    "print(\"locus tag:\",cds.qualifiers[\"locus_tag\"])\n",
    "print(cds.qualifiers[\"translation\"])\n",
    "print(record.features[1])"
   ]
  },
  {
   "cell_type": "code",
   "execution_count": 113,
   "metadata": {},
   "outputs": [],
   "source": [
    "glob.os.chdir(\"/Users/johncoffin/Desktop/Coding/project/biopython_tutorial/biopython_workshop/\")\n",
    "\n"
   ]
  },
  {
   "cell_type": "code",
   "execution_count": 114,
   "metadata": {},
   "outputs": [
    {
     "ename": "ValueError",
     "evalue": "Did not find STOCKHOLM header",
     "output_type": "error",
     "traceback": [
      "\u001b[0;31m---------------------------------------------------------------------------\u001b[0m",
      "\u001b[0;31mValueError\u001b[0m                                Traceback (most recent call last)",
      "\u001b[0;32m<ipython-input-114-067a2b01c09d>\u001b[0m in \u001b[0;36m<module>\u001b[0;34m\u001b[0m\n\u001b[0;32m----> 1\u001b[0;31m \u001b[0malignment\u001b[0m \u001b[0;34m=\u001b[0m \u001b[0mAlignIO\u001b[0m\u001b[0;34m.\u001b[0m\u001b[0mread\u001b[0m\u001b[0;34m(\u001b[0m\u001b[0;34m\"PF08792_seed.sth\"\u001b[0m\u001b[0;34m,\u001b[0m \u001b[0;34m\"stockholm\"\u001b[0m\u001b[0;34m)\u001b[0m\u001b[0;34m\u001b[0m\u001b[0;34m\u001b[0m\u001b[0m\n\u001b[0m",
      "\u001b[0;32m~/anaconda3/lib/python3.7/site-packages/Bio/AlignIO/__init__.py\u001b[0m in \u001b[0;36mread\u001b[0;34m(handle, format, seq_count, alphabet)\u001b[0m\n\u001b[1;32m    433\u001b[0m     \u001b[0miterator\u001b[0m \u001b[0;34m=\u001b[0m \u001b[0mparse\u001b[0m\u001b[0;34m(\u001b[0m\u001b[0mhandle\u001b[0m\u001b[0;34m,\u001b[0m \u001b[0mformat\u001b[0m\u001b[0;34m,\u001b[0m \u001b[0mseq_count\u001b[0m\u001b[0;34m,\u001b[0m \u001b[0malphabet\u001b[0m\u001b[0;34m)\u001b[0m\u001b[0;34m\u001b[0m\u001b[0;34m\u001b[0m\u001b[0m\n\u001b[1;32m    434\u001b[0m     \u001b[0;32mtry\u001b[0m\u001b[0;34m:\u001b[0m\u001b[0;34m\u001b[0m\u001b[0;34m\u001b[0m\u001b[0m\n\u001b[0;32m--> 435\u001b[0;31m         \u001b[0mfirst\u001b[0m \u001b[0;34m=\u001b[0m \u001b[0mnext\u001b[0m\u001b[0;34m(\u001b[0m\u001b[0miterator\u001b[0m\u001b[0;34m)\u001b[0m\u001b[0;34m\u001b[0m\u001b[0;34m\u001b[0m\u001b[0m\n\u001b[0m\u001b[1;32m    436\u001b[0m     \u001b[0;32mexcept\u001b[0m \u001b[0mStopIteration\u001b[0m\u001b[0;34m:\u001b[0m\u001b[0;34m\u001b[0m\u001b[0;34m\u001b[0m\u001b[0m\n\u001b[1;32m    437\u001b[0m         \u001b[0mfirst\u001b[0m \u001b[0;34m=\u001b[0m \u001b[0;32mNone\u001b[0m\u001b[0;34m\u001b[0m\u001b[0;34m\u001b[0m\u001b[0m\n",
      "\u001b[0;32m~/anaconda3/lib/python3.7/site-packages/Bio/AlignIO/__init__.py\u001b[0m in \u001b[0;36mparse\u001b[0;34m(handle, format, seq_count, alphabet)\u001b[0m\n\u001b[1;32m    380\u001b[0m         \u001b[0;31m# TODO: As of Python 3.3, can write \"yield from i\" instead. See PEP380.\u001b[0m\u001b[0;34m\u001b[0m\u001b[0;34m\u001b[0m\u001b[0;34m\u001b[0m\u001b[0m\n\u001b[1;32m    381\u001b[0m         \u001b[0;31m# For loop imposes some overhead... wait until we drop Python 2.7 to fix it.\u001b[0m\u001b[0;34m\u001b[0m\u001b[0;34m\u001b[0m\u001b[0;34m\u001b[0m\u001b[0m\n\u001b[0;32m--> 382\u001b[0;31m         \u001b[0;32mfor\u001b[0m \u001b[0ma\u001b[0m \u001b[0;32min\u001b[0m \u001b[0mi\u001b[0m\u001b[0;34m:\u001b[0m\u001b[0;34m\u001b[0m\u001b[0;34m\u001b[0m\u001b[0m\n\u001b[0m\u001b[1;32m    383\u001b[0m             \u001b[0;32myield\u001b[0m \u001b[0ma\u001b[0m\u001b[0;34m\u001b[0m\u001b[0;34m\u001b[0m\u001b[0m\n\u001b[1;32m    384\u001b[0m \u001b[0;34m\u001b[0m\u001b[0m\n",
      "\u001b[0;32m~/anaconda3/lib/python3.7/site-packages/Bio/AlignIO/StockholmIO.py\u001b[0m in \u001b[0;36m__next__\u001b[0;34m(self)\u001b[0m\n\u001b[1;32m    388\u001b[0m             \u001b[0;32mraise\u001b[0m \u001b[0mStopIteration\u001b[0m\u001b[0;34m\u001b[0m\u001b[0;34m\u001b[0m\u001b[0m\n\u001b[1;32m    389\u001b[0m         \u001b[0;32mif\u001b[0m \u001b[0mline\u001b[0m\u001b[0;34m.\u001b[0m\u001b[0mstrip\u001b[0m\u001b[0;34m(\u001b[0m\u001b[0;34m)\u001b[0m \u001b[0;34m!=\u001b[0m \u001b[0;34m'# STOCKHOLM 1.0'\u001b[0m\u001b[0;34m:\u001b[0m\u001b[0;34m\u001b[0m\u001b[0;34m\u001b[0m\u001b[0m\n\u001b[0;32m--> 390\u001b[0;31m             \u001b[0;32mraise\u001b[0m \u001b[0mValueError\u001b[0m\u001b[0;34m(\u001b[0m\u001b[0;34m\"Did not find STOCKHOLM header\"\u001b[0m\u001b[0;34m)\u001b[0m\u001b[0;34m\u001b[0m\u001b[0;34m\u001b[0m\u001b[0m\n\u001b[0m\u001b[1;32m    391\u001b[0m \u001b[0;34m\u001b[0m\u001b[0m\n\u001b[1;32m    392\u001b[0m         \u001b[0;31m# Note: If this file follows the PFAM conventions, there should be\u001b[0m\u001b[0;34m\u001b[0m\u001b[0;34m\u001b[0m\u001b[0;34m\u001b[0m\u001b[0m\n",
      "\u001b[0;31mValueError\u001b[0m: Did not find STOCKHOLM header"
     ]
    }
   ],
   "source": [
    "alignment = AlignIO.read(\"PF08792_seed.sth\", \"stockholm\")"
   ]
  },
  {
   "cell_type": "code",
   "execution_count": 146,
   "metadata": {},
   "outputs": [],
   "source": [
    "glob.os.chdir(\"/Users/johncoffin/Desktop/Coding/project/\")\n",
    "\n",
    "from Bio.Alphabet import generic_dna\n",
    "from Bio.Seq import Seq\n",
    "from Bio.SeqRecord import SeqRecord\n",
    "from Bio.Align import MultipleSeqAlignment\n",
    "\n",
    "align = MultipleSeqAlignment([\n",
    "             SeqRecord(Seq(Gaff, generic_dna), id=\"Gaff\"),\n",
    "             SeqRecord(Seq(Pmex, generic_dna), id=\"Pmex\"),\n",
    "             SeqRecord(Seq(Xmac, generic_dna), id=\"Xmac\"),\n",
    "         ])"
   ]
  },
  {
   "cell_type": "code",
   "execution_count": 147,
   "metadata": {},
   "outputs": [
    {
     "name": "stdout",
     "output_type": "stream",
     "text": [
      "DNAAlphabet() alignment with 3 rows and 29 columns\n",
      "ATGACTCCTCTTATTTACTCCACCCTAAT Gaff\n",
      "ATGGCTCCCCTAATCTACTCCGCCCTCAT Pmex\n",
      "ATGGCTCCCTTTGTTTACTCCACCCTTAT Xmac\n"
     ]
    }
   ],
   "source": [
    "print(align)"
   ]
  },
  {
   "cell_type": "code",
   "execution_count": 148,
   "metadata": {},
   "outputs": [
    {
     "data": {
      "text/plain": [
       "1"
      ]
     },
     "execution_count": 148,
     "metadata": {},
     "output_type": "execute_result"
    }
   ],
   "source": [
    "AlignIO.write(align, \"align.phy\", \"phylip\")"
   ]
  },
  {
   "cell_type": "code",
   "execution_count": 149,
   "metadata": {},
   "outputs": [
    {
     "name": "stdout",
     "output_type": "stream",
     "text": [
      "ATGACTCCTCTTA-TTTACTCCACCCTAAT\n",
      "ATGGCTCC-CTTTGTTTACTCCACCCTTAT\n"
     ]
    }
   ],
   "source": [
    "test_align = Gaff_Xmac_align[0]\n",
    "Gaffinis = test_align[0]\n",
    "Pmexicana = test_align[1]\n",
    "print(Gaffinis)\n",
    "print(Pmexicana)"
   ]
  },
  {
   "cell_type": "code",
   "execution_count": null,
   "metadata": {},
   "outputs": [],
   "source": []
  }
 ],
 "metadata": {
  "kernelspec": {
   "display_name": "Python 3",
   "language": "python",
   "name": "python3"
  },
  "language_info": {
   "codemirror_mode": {
    "name": "ipython",
    "version": 3
   },
   "file_extension": ".py",
   "mimetype": "text/x-python",
   "name": "python",
   "nbconvert_exporter": "python",
   "pygments_lexer": "ipython3",
   "version": "3.7.1"
  }
 },
 "nbformat": 4,
 "nbformat_minor": 2
}
